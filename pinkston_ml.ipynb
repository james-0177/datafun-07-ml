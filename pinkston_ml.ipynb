{
 "cells": [
  {
   "cell_type": "markdown",
   "metadata": {},
   "source": [
    "# Title:  Project 7 - Machine Learning with Jupyter and Python\n",
    "# Author:  James Pinkston\n",
    "# GitHut Repository:  https://github.com/james-0177/datafun-07-ml\n",
    "# Due Date:  Oct. 10, 2024\n",
    "# Purpose:  To show use of Machine Learning (Simple Linear Regression) with Jupyter Notebooks and Python"
   ]
  },
  {
   "cell_type": "code",
   "execution_count": null,
   "metadata": {},
   "outputs": [],
   "source": [
    "import numpy as np\n",
    "import matplotlib.pyplot as plt\n",
    "import pandas as pd\n",
    "import seaborn as sns\n",
    "import pyarrow as pa\n",
    "import scipy as sp\n"
   ]
  }
 ],
 "metadata": {
  "kernelspec": {
   "display_name": ".venv",
   "language": "python",
   "name": "python3"
  },
  "language_info": {
   "name": "python",
   "version": "3.12.5"
  }
 },
 "nbformat": 4,
 "nbformat_minor": 2
}
